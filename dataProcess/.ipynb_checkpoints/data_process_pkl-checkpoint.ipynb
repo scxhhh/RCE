{
 "cells": [
  {
   "cell_type": "code",
   "execution_count": 5,
   "metadata": {},
   "outputs": [],
   "source": [
    "import os\n",
    "from os import listdir\n",
    "import io\n",
    "import re\n",
    "import pandas as pd\n",
    "import csv\n",
    "import numpy as np\n",
    "import matplotlib.pyplot as plt\n",
    "import seaborn as sns\n",
    "import time\n",
    "import pickle\n",
    "from pylab import rcParams\n",
    "from sklearn.linear_model import LinearRegression\n",
    "from sklearn.model_selection import train_test_split"
   ]
  },
  {
   "cell_type": "code",
   "execution_count": 6,
   "metadata": {},
   "outputs": [
    {
     "ename": "NotADirectoryError",
     "evalue": "[Errno 20] Not a directory: '../csv_data/train_patient.csv'",
     "output_type": "error",
     "traceback": [
      "\u001b[0;31m---------------------------------------------------------------------------\u001b[0m",
      "\u001b[0;31mNotADirectoryError\u001b[0m                        Traceback (most recent call last)",
      "\u001b[0;32m<ipython-input-6-29acee655b0e>\u001b[0m in \u001b[0;36m<module>\u001b[0;34m\u001b[0m\n\u001b[1;32m      1\u001b[0m \u001b[0;31m# load train data\u001b[0m\u001b[0;34m\u001b[0m\u001b[0;34m\u001b[0m\u001b[0;34m\u001b[0m\u001b[0m\n\u001b[0;32m----> 2\u001b[0;31m \u001b[0mtrain_data_file\u001b[0m \u001b[0;34m=\u001b[0m \u001b[0mlistdir\u001b[0m\u001b[0;34m(\u001b[0m\u001b[0;34m'../csv_data/train_patient.csv'\u001b[0m\u001b[0;34m)\u001b[0m\u001b[0;34m\u001b[0m\u001b[0;34m\u001b[0m\u001b[0m\n\u001b[0m\u001b[1;32m      3\u001b[0m \u001b[0mtrain_data\u001b[0m\u001b[0;34m=\u001b[0m\u001b[0mpd\u001b[0m\u001b[0;34m.\u001b[0m\u001b[0mread_csv\u001b[0m\u001b[0;34m(\u001b[0m\u001b[0mtrain_data_file\u001b[0m\u001b[0;34m)\u001b[0m\u001b[0;34m\u001b[0m\u001b[0;34m\u001b[0m\u001b[0m\n",
      "\u001b[0;31mNotADirectoryError\u001b[0m: [Errno 20] Not a directory: '../csv_data/train_patient.csv'"
     ]
    }
   ],
   "source": [
    "# load train data\n",
    "train_data_file = listdir('../csv_data/train_patient.csv')\n",
    "train_data=pd.read_csv(train_data_file)"
   ]
  },
  {
   "cell_type": "code",
   "execution_count": null,
   "metadata": {},
   "outputs": [],
   "source": [
    "with open('../pkl_data/train_batch_data.csv', 'w') as csvoutput:\n",
    "    writer = csv.writer(csvoutput, lineterminator='\\n')\n",
    "    \n",
    "    for ind, csv_name in enumerate(a_traincsv):\n",
    "        with open('../raw_data/training_A/'+ csv_name,'r') as csvinput:\n",
    "            reader = csv.reader(csvinput, delimiter='|')\n",
    "            all = []\n",
    "            if ind ==0 :\n",
    "                row = next(reader)\n",
    "                row.append('Patient_id')\n",
    "                row.append('time')\n",
    "                all.append(row)\n",
    "            else:\n",
    "                row = next(reader)\n",
    "\n",
    "            for i,row in enumerate(reader):\n",
    "                row.append(ind)\n",
    "                row.append(i)\n",
    "                all.append(row)\n",
    "            writer.writerows(all)\n",
    "        num = ind \n",
    "\n",
    "    for inde, csv_name in enumerate(b_traincsv):\n",
    "        if inde < 10000:\n",
    "            num = num+1\n",
    "        with open('../raw_data/training_B/'+ csv_name,'r') as csvinput:\n",
    "            reader = csv.reader(csvinput, delimiter='|')\n",
    "            all = []\n",
    "            row = next(reader)\n",
    "            for i,row in enumerate(reader):\n",
    "                row.append(num)\n",
    "                row.append(i)\n",
    "                all.append(row)\n",
    "            writer.writerows(all)"
   ]
  }
 ],
 "metadata": {
  "kernelspec": {
   "display_name": "Python 3",
   "language": "python",
   "name": "python3"
  },
  "language_info": {
   "codemirror_mode": {
    "name": "ipython",
    "version": 3
   },
   "file_extension": ".py",
   "mimetype": "text/x-python",
   "name": "python",
   "nbconvert_exporter": "python",
   "pygments_lexer": "ipython3",
   "version": "3.7.4"
  }
 },
 "nbformat": 4,
 "nbformat_minor": 2
}
