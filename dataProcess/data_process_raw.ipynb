{
 "cells": [
  {
   "cell_type": "markdown",
   "metadata": {},
   "source": [
    "# Physionet Sepsis Dataset\n",
    "要求提前6h预测；  \n",
    "每一时刻有40个变量值，1个label；  \n",
    "Label=1：sepsis onset 6h前  \n",
    "采样间隔：1h  \n",
    "每个sample的时间总长度不同"
   ]
  },
  {
   "cell_type": "code",
   "execution_count": 2,
   "metadata": {},
   "outputs": [],
   "source": [
    "import io\n",
    "import os\n",
    "import re\n",
    "import pandas as pd\n",
    "import numpy as np\n",
    "from sklearn.linear_model import LinearRegression\n",
    "from sklearn.model_selection import train_test_split\n",
    "import matplotlib.pyplot as plt  \n",
    "import create_folder as cf"
   ]
  },
  {
   "cell_type": "code",
   "execution_count": 5,
   "metadata": {},
   "outputs": [],
   "source": [
    "# Set path\n",
    "DATA_DIR=\"../raw_data\"\n",
    "CHECKDATA_DIR = '../data_information'\n",
    "NEWDATA_DIR='../file_data'"
   ]
  },
  {
   "cell_type": "code",
   "execution_count": 6,
   "metadata": {},
   "outputs": [
    {
     "name": "stdout",
     "output_type": "stream",
     "text": [
      "数据数量\n",
      "20336\n",
      "20000\n",
      "40336\n"
     ]
    }
   ],
   "source": [
    "# setA file\n",
    "print('数据数量')\n",
    "trainingA_files=[]\n",
    "trainingA_files_dir=DATA_DIR+'/training_A/'\n",
    "for file in os.listdir(trainingA_files_dir):\n",
    "    sample_file=trainingA_files_dir+file\n",
    "    trainingA_files.append(sample_file)\n",
    "print (len(trainingA_files))\n",
    "\n",
    "# setB file\n",
    "trainingB_files=[]\n",
    "trainingB_files_dir=DATA_DIR+'/training_B/'\n",
    "for file in os.listdir(trainingB_files_dir):\n",
    "    sample_file=trainingB_files_dir+file\n",
    "    trainingB_files.append(sample_file)\n",
    "print (len(trainingB_files))\n",
    "\n",
    "# total set file\n",
    "training_files=trainingA_files+trainingB_files\n",
    "print (len(training_files))"
   ]
  },
  {
   "cell_type": "code",
   "execution_count": 7,
   "metadata": {},
   "outputs": [
    {
     "name": "stdout",
     "output_type": "stream",
     "text": [
      "setA p000001 信息\n"
     ]
    },
    {
     "data": {
      "text/html": [
       "<div>\n",
       "<style scoped>\n",
       "    .dataframe tbody tr th:only-of-type {\n",
       "        vertical-align: middle;\n",
       "    }\n",
       "\n",
       "    .dataframe tbody tr th {\n",
       "        vertical-align: top;\n",
       "    }\n",
       "\n",
       "    .dataframe thead th {\n",
       "        text-align: right;\n",
       "    }\n",
       "</style>\n",
       "<table border=\"1\" class=\"dataframe\">\n",
       "  <thead>\n",
       "    <tr style=\"text-align: right;\">\n",
       "      <th></th>\n",
       "      <th>HR</th>\n",
       "      <th>O2Sat</th>\n",
       "      <th>Temp</th>\n",
       "      <th>SBP</th>\n",
       "      <th>MAP</th>\n",
       "      <th>DBP</th>\n",
       "      <th>Resp</th>\n",
       "      <th>EtCO2</th>\n",
       "      <th>BaseExcess</th>\n",
       "      <th>HCO3</th>\n",
       "      <th>...</th>\n",
       "      <th>WBC</th>\n",
       "      <th>Fibrinogen</th>\n",
       "      <th>Platelets</th>\n",
       "      <th>Age</th>\n",
       "      <th>Gender</th>\n",
       "      <th>Unit1</th>\n",
       "      <th>Unit2</th>\n",
       "      <th>HospAdmTime</th>\n",
       "      <th>ICULOS</th>\n",
       "      <th>SepsisLabel</th>\n",
       "    </tr>\n",
       "  </thead>\n",
       "  <tbody>\n",
       "    <tr>\n",
       "      <td>0</td>\n",
       "      <td>80.0</td>\n",
       "      <td>100.0</td>\n",
       "      <td>36.50</td>\n",
       "      <td>121.00</td>\n",
       "      <td>58.0</td>\n",
       "      <td>41.00</td>\n",
       "      <td>13.5</td>\n",
       "      <td>NaN</td>\n",
       "      <td>1.0</td>\n",
       "      <td>25.0</td>\n",
       "      <td>...</td>\n",
       "      <td>9.9</td>\n",
       "      <td>223.0</td>\n",
       "      <td>160.0</td>\n",
       "      <td>77.27</td>\n",
       "      <td>1</td>\n",
       "      <td>0</td>\n",
       "      <td>1</td>\n",
       "      <td>-69.14</td>\n",
       "      <td>3</td>\n",
       "      <td>0</td>\n",
       "    </tr>\n",
       "    <tr>\n",
       "      <td>1</td>\n",
       "      <td>76.0</td>\n",
       "      <td>100.0</td>\n",
       "      <td>36.25</td>\n",
       "      <td>113.25</td>\n",
       "      <td>61.0</td>\n",
       "      <td>41.50</td>\n",
       "      <td>12.0</td>\n",
       "      <td>NaN</td>\n",
       "      <td>1.0</td>\n",
       "      <td>25.0</td>\n",
       "      <td>...</td>\n",
       "      <td>9.9</td>\n",
       "      <td>NaN</td>\n",
       "      <td>NaN</td>\n",
       "      <td>77.27</td>\n",
       "      <td>1</td>\n",
       "      <td>0</td>\n",
       "      <td>1</td>\n",
       "      <td>-69.14</td>\n",
       "      <td>4</td>\n",
       "      <td>0</td>\n",
       "    </tr>\n",
       "    <tr>\n",
       "      <td>2</td>\n",
       "      <td>80.0</td>\n",
       "      <td>100.0</td>\n",
       "      <td>36.25</td>\n",
       "      <td>132.75</td>\n",
       "      <td>71.5</td>\n",
       "      <td>46.25</td>\n",
       "      <td>12.0</td>\n",
       "      <td>NaN</td>\n",
       "      <td>NaN</td>\n",
       "      <td>NaN</td>\n",
       "      <td>...</td>\n",
       "      <td>NaN</td>\n",
       "      <td>NaN</td>\n",
       "      <td>NaN</td>\n",
       "      <td>77.27</td>\n",
       "      <td>1</td>\n",
       "      <td>0</td>\n",
       "      <td>1</td>\n",
       "      <td>-69.14</td>\n",
       "      <td>5</td>\n",
       "      <td>0</td>\n",
       "    </tr>\n",
       "    <tr>\n",
       "      <td>3</td>\n",
       "      <td>78.0</td>\n",
       "      <td>100.0</td>\n",
       "      <td>36.10</td>\n",
       "      <td>103.50</td>\n",
       "      <td>58.0</td>\n",
       "      <td>43.00</td>\n",
       "      <td>12.0</td>\n",
       "      <td>NaN</td>\n",
       "      <td>-3.0</td>\n",
       "      <td>NaN</td>\n",
       "      <td>...</td>\n",
       "      <td>NaN</td>\n",
       "      <td>NaN</td>\n",
       "      <td>NaN</td>\n",
       "      <td>77.27</td>\n",
       "      <td>1</td>\n",
       "      <td>0</td>\n",
       "      <td>1</td>\n",
       "      <td>-69.14</td>\n",
       "      <td>6</td>\n",
       "      <td>0</td>\n",
       "    </tr>\n",
       "    <tr>\n",
       "      <td>4</td>\n",
       "      <td>74.0</td>\n",
       "      <td>100.0</td>\n",
       "      <td>36.00</td>\n",
       "      <td>128.75</td>\n",
       "      <td>69.5</td>\n",
       "      <td>44.50</td>\n",
       "      <td>12.5</td>\n",
       "      <td>NaN</td>\n",
       "      <td>-3.0</td>\n",
       "      <td>NaN</td>\n",
       "      <td>...</td>\n",
       "      <td>NaN</td>\n",
       "      <td>NaN</td>\n",
       "      <td>NaN</td>\n",
       "      <td>77.27</td>\n",
       "      <td>1</td>\n",
       "      <td>0</td>\n",
       "      <td>1</td>\n",
       "      <td>-69.14</td>\n",
       "      <td>7</td>\n",
       "      <td>0</td>\n",
       "    </tr>\n",
       "  </tbody>\n",
       "</table>\n",
       "<p>5 rows × 41 columns</p>\n",
       "</div>"
      ],
      "text/plain": [
       "     HR  O2Sat   Temp     SBP   MAP    DBP  Resp  EtCO2  BaseExcess  HCO3  \\\n",
       "0  80.0  100.0  36.50  121.00  58.0  41.00  13.5    NaN         1.0  25.0   \n",
       "1  76.0  100.0  36.25  113.25  61.0  41.50  12.0    NaN         1.0  25.0   \n",
       "2  80.0  100.0  36.25  132.75  71.5  46.25  12.0    NaN         NaN   NaN   \n",
       "3  78.0  100.0  36.10  103.50  58.0  43.00  12.0    NaN        -3.0   NaN   \n",
       "4  74.0  100.0  36.00  128.75  69.5  44.50  12.5    NaN        -3.0   NaN   \n",
       "\n",
       "   ...  WBC  Fibrinogen  Platelets    Age  Gender  Unit1  Unit2  HospAdmTime  \\\n",
       "0  ...  9.9       223.0      160.0  77.27       1      0      1       -69.14   \n",
       "1  ...  9.9         NaN        NaN  77.27       1      0      1       -69.14   \n",
       "2  ...  NaN         NaN        NaN  77.27       1      0      1       -69.14   \n",
       "3  ...  NaN         NaN        NaN  77.27       1      0      1       -69.14   \n",
       "4  ...  NaN         NaN        NaN  77.27       1      0      1       -69.14   \n",
       "\n",
       "   ICULOS  SepsisLabel  \n",
       "0       3            0  \n",
       "1       4            0  \n",
       "2       5            0  \n",
       "3       6            0  \n",
       "4       7            0  \n",
       "\n",
       "[5 rows x 41 columns]"
      ]
     },
     "execution_count": 7,
     "metadata": {},
     "output_type": "execute_result"
    }
   ],
   "source": [
    "# show one file content \n",
    "print('setA p000001 信息')\n",
    "df=pd.read_csv(training_files[0],delimiter=\"|\")\n",
    "df.head()"
   ]
  },
  {
   "cell_type": "code",
   "execution_count": 41,
   "metadata": {},
   "outputs": [],
   "source": [
    "# time length statistics\n",
    "time_length_map={}\n",
    "min_length=100\n",
    "max_length=0\n",
    "for file in training_files:\n",
    "    df=pd.read_csv(file,delimiter=\"|\")\n",
    "    length=df.shape[0]\n",
    "    if time_length_map.get(length):\n",
    "        time_length_map[length]+=1\n",
    "    else:  \n",
    "        time_length_map[length]=1\n",
    "    if length>max_length:\n",
    "        max_length=length\n",
    "    if length<min_length:\n",
    "        min_length=length"
   ]
  },
  {
   "cell_type": "code",
   "execution_count": 46,
   "metadata": {},
   "outputs": [
    {
     "name": "stdout",
     "output_type": "stream",
     "text": [
      "最长时间长度：336；最短时间长度：8\n"
     ]
    }
   ],
   "source": [
    "print ('最长时间长度：'+str(max_length)+'；最短时间长度：'+str(min_length))"
   ]
  },
  {
   "cell_type": "code",
   "execution_count": 60,
   "metadata": {},
   "outputs": [
    {
     "data": {
      "image/png": "[encoded data removed]",
      "text/plain": [
       "<Figure size 1600x400 with 1 Axes>"
      ]
     },
     "metadata": {
      "needs_background": "light"
     },
     "output_type": "display_data"
    }
   ],
   "source": [
    "plt.figure(figsize=(20, 5), dpi=80)\n",
    "plt.bar(time_length_map.keys(), time_length_map.values())\n",
    "plt.show() "
   ]
  },
  {
   "cell_type": "code",
   "execution_count": 9,
   "metadata": {},
   "outputs": [
    {
     "name": "stdout",
     "output_type": "stream",
     "text": [
      "setB 文件信息\n"
     ]
    },
    {
     "data": {
      "text/html": [
       "<div>\n",
       "<style scoped>\n",
       "    .dataframe tbody tr th:only-of-type {\n",
       "        vertical-align: middle;\n",
       "    }\n",
       "\n",
       "    .dataframe tbody tr th {\n",
       "        vertical-align: top;\n",
       "    }\n",
       "\n",
       "    .dataframe thead th {\n",
       "        text-align: right;\n",
       "    }\n",
       "</style>\n",
       "<table border=\"1\" class=\"dataframe\">\n",
       "  <thead>\n",
       "    <tr style=\"text-align: right;\">\n",
       "      <th></th>\n",
       "      <th>FileName</th>\n",
       "      <th>TypeSepsis</th>\n",
       "      <th>Sex</th>\n",
       "      <th>Age</th>\n",
       "      <th>StartTime</th>\n",
       "      <th>LenTime</th>\n",
       "    </tr>\n",
       "  </thead>\n",
       "  <tbody>\n",
       "    <tr>\n",
       "      <td>0</td>\n",
       "      <td>p100001.psv</td>\n",
       "      <td>0</td>\n",
       "      <td>1</td>\n",
       "      <td>72</td>\n",
       "      <td>24</td>\n",
       "      <td>NaN</td>\n",
       "    </tr>\n",
       "    <tr>\n",
       "      <td>1</td>\n",
       "      <td>p100002.psv</td>\n",
       "      <td>0</td>\n",
       "      <td>1</td>\n",
       "      <td>82</td>\n",
       "      <td>25</td>\n",
       "      <td>NaN</td>\n",
       "    </tr>\n",
       "    <tr>\n",
       "      <td>2</td>\n",
       "      <td>p100003.psv</td>\n",
       "      <td>0</td>\n",
       "      <td>1</td>\n",
       "      <td>47</td>\n",
       "      <td>43</td>\n",
       "      <td>NaN</td>\n",
       "    </tr>\n",
       "    <tr>\n",
       "      <td>3</td>\n",
       "      <td>p100004.psv</td>\n",
       "      <td>0</td>\n",
       "      <td>1</td>\n",
       "      <td>66</td>\n",
       "      <td>59</td>\n",
       "      <td>NaN</td>\n",
       "    </tr>\n",
       "    <tr>\n",
       "      <td>4</td>\n",
       "      <td>p100005.psv</td>\n",
       "      <td>0</td>\n",
       "      <td>1</td>\n",
       "      <td>49</td>\n",
       "      <td>52</td>\n",
       "      <td>NaN</td>\n",
       "    </tr>\n",
       "  </tbody>\n",
       "</table>\n",
       "</div>"
      ],
      "text/plain": [
       "      FileName  TypeSepsis  Sex  Age  StartTime  LenTime\n",
       "0  p100001.psv           0    1   72         24      NaN\n",
       "1  p100002.psv           0    1   82         25      NaN\n",
       "2  p100003.psv           0    1   47         43      NaN\n",
       "3  p100004.psv           0    1   66         59      NaN\n",
       "4  p100005.psv           0    1   49         52      NaN"
      ]
     },
     "execution_count": 9,
     "metadata": {},
     "output_type": "execute_result"
    }
   ],
   "source": [
    "# show data check file\n",
    "'''\n",
    "Sepsis with 0 is normal, 1 is sepsis\n",
    "Gender= [0,1] with 0 is male, 1 is female\n",
    "Thredhold of default age is 50 with True is age > 50 and False is age <=50\n",
    "'''\n",
    "print('setB 文件信息')\n",
    "check_df = pd.read_csv(CHECKDATA_DIR+'/check_setB.csv')\n",
    "check_df.head()"
   ]
  },
  {
   "cell_type": "code",
   "execution_count": 10,
   "metadata": {},
   "outputs": [
    {
     "name": "stdout",
     "output_type": "stream",
     "text": [
      "setB 中sepsis个数\n"
     ]
    },
    {
     "data": {
      "text/plain": [
       "1142"
      ]
     },
     "execution_count": 10,
     "metadata": {},
     "output_type": "execute_result"
    }
   ],
   "source": [
    "# number of sepsis patients in set B\n",
    "print('setB 中sepsis个数')\n",
    "check_df[check_df['TypeSepsis'] == 1].shape[0]"
   ]
  },
  {
   "cell_type": "markdown",
   "metadata": {},
   "source": [
    "## missing value process"
   ]
  },
  {
   "cell_type": "code",
   "execution_count": null,
   "metadata": {},
   "outputs": [],
   "source": [
    "# 插值, 形成新数据\n",
    "def process_missing_data(data_files,interpolation=False):\n",
    "    for file in data_files:\n",
    "        df=pd.read_csv(file,delimiter=\"|\")\n",
    "        if interpolation==True:\n",
    "            df = df.interpolate(method='linear').ffill().bfill() \n",
    "        df = df.ffill().bfill()\n",
    "        dirpath, file=os.path.split(file)\n",
    "        path_save=os.path.join(NEWDATA_DIR,file)\n",
    "        with open(path_save, 'w') as f:\n",
    "            df.to_csv(f, encoding='utf-8', header=True, index=False)"
   ]
  },
  {
   "cell_type": "code",
   "execution_count": 32,
   "metadata": {},
   "outputs": [],
   "source": [
    "#特定特征的患者人群插值\n",
    "'''\n",
    "input: patient feature\n",
    "return: pandas frame\n",
    "'''\n",
    "def process_missing_data_(path_check_file = 'data_information/check_setB.csv', path_data_folder = 'raw_data/training_B' , sepsis=0, gender=1, age=0, interpolation=False):\n",
    "\n",
    "    # Divide data to group \n",
    "    df = pd.read_csv(path_check_file)\n",
    "    df = df[df['TypeSepsis'] == sepsis]\n",
    "    df = df[df['Sex'] == gender]\n",
    "    if age == 0:\n",
    "        df = df[df['Age'] <= 50]\n",
    "    else:\n",
    "        df = df[df['Age'] > 50]\n",
    "\n",
    "    # List file in the group \n",
    "    file_names = df['FileName']\n",
    "\n",
    "    # Concatenate all file to a frame\n",
    "    len = file_names.shape[0]\n",
    "    for i in range(len):\n",
    "        file = os.path.join(path_data_folder, file_names.iloc[i])\n",
    "        df = pd.read_csv(file, delimiter='|')\n",
    "        #填充nan\n",
    "        if interpolation == True:\n",
    "            df = df.interpolate(method='linear').ffill().bfill() \n",
    "        df = df.ffill().bfill()\n",
    "        df['FileName'] = file_names.iloc[i]\n",
    "        if i == 0:\n",
    "            frames = df\n",
    "        else:\n",
    "            frames = [frames, df]\n",
    "            frames = pd.concat(frames)\n",
    "            \n",
    "    return frames"
   ]
  },
  {
   "cell_type": "code",
   "execution_count": null,
   "metadata": {},
   "outputs": [],
   "source": []
  }
 ],
 "metadata": {
  "kernelspec": {
   "display_name": "Python 3",
   "language": "python",
   "name": "python3"
  },
  "language_info": {
   "codemirror_mode": {
    "name": "ipython",
    "version": 3
   },
   "file_extension": ".py",
   "mimetype": "text/x-python",
   "name": "python",
   "nbconvert_exporter": "python",
   "pygments_lexer": "ipython3",
   "version": "3.7.4"
  }
 },
 "nbformat": 4,
 "nbformat_minor": 2
}
